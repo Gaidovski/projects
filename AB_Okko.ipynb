{
 "cells": [
  {
   "cell_type": "markdown",
   "metadata": {},
   "source": [
    "Был запущен сплит-тест (а/б-тест), направленный на улучшение платежной активности пользователей. Вам дан датасет с транзакциями пользователей до и во время теста в контрольной и тестовых группах\n",
    "\n",
    "1. Какие вы можете сделать выводы? Какая группа показала лучшие результаты?\n",
    "2. Можем ли мы как-то оценить из этих данных равномерность и валидность распределения юзеров по разным группам?\n",
    "3. Если не ограничиваться теми данными, которые приведены в рамках этого задания, что ещё вы бы посчитали для оценки результатов групп?\n",
    "\n",
    "**Описание данных:**\n",
    "\n",
    "В таблице users_ приведена информация о том, какой юзер в какой момент времени попал в а/б тест:\n",
    "- tag - лэйбл группы (control - контрольная, остальные - тестовые)\n",
    "- ts - время, когда впервые был выдан tag. То есть, все события до наступления времени ts происходили с юзером до попадания в а/б тест\n",
    "- user_uid - внутренний id юзера (для матчинга со второй таблицей)\n",
    "- registration_time - время регистрации пользователя в сервисе\n",
    "- conv_ts - время совершения первой покупки пользователем в сервисе\n",
    "\n",
    "В таблице purchases_ приведена информация о транзакциях пользователей из таблицы users_ до и во время а/б теста:\n",
    "- user_uid - внутренний id юзера (для матчинга со второй таблицей)\n",
    "- time - время совершения транзакции\n",
    "- consumption_mode - вид потребления контента (dto - единица контента куплена навсегда, rent - единица контента взята в аренду, subscription - оформлена подписка)\n",
    "- element_uid - уникальный id единицы контента или подписки\n",
    "- price - цена (преобразованная)\n",
    "\n",
    "Значения в полях price и всех полях, указывающих на время - преобразованы. Это значит, что значение в таблице не настоящее, но является линейным преобразованием реального значения, где ко всем значениям одного поля применено одно и то же преобразование - между ними сохранено отношение порядка. Ко всем полям, обозначающим время, применено одно и то же преобразование."
   ]
  },
  {
   "cell_type": "markdown",
   "metadata": {},
   "source": [
    "# Выводы\n",
    "\n",
    "## 1. Какие вы можете сделать выводы? Какая группа показала лучшие результаты?\n",
    "\n",
    "Тест показал стат значимые различия между контрольной группой и 2 тестовыми группами: test_2 и test_3\n",
    "\n",
    "Тестовая группа №3 показала лучшие резульатаы по среднему ARPU:\n",
    "69.59 рубля против 68.34 рубля в контрольной\n",
    "\n",
    "Между средними test_2 и test_3 статистической значимости не обнаружилось. Это стоит учесть, если изменения, как для 2ой группы, проще реализовать\n",
    "\n",
    "\n",
    "## 2. Можем ли мы как-то оценить из этих данных равномерность и валидность распределения юзеров по разным группам?\n",
    "\n",
    "Пользователи распределились по группам неравномерно. Неравномерность распределения была проверена критерием Хи-квадрат \n",
    "\n",
    "Всего 155104 пользователя совершили покупки после деления их на группы. 22% пользователей сервиса от общего числа приняли участие в тестировании.\n",
    "\n",
    "## 3. Если не ограничиваться теми данными, которые приведены в рамках этого задания, что ещё вы бы посчитали для оценки результатов групп?\n",
    "\n",
    "Интересно углубиться в анализ и попытаться выделить сегменты аудитории внутри сервиса. Посмотреть на такие характеристики как: платформа, пол, возраст. Возможно, на какие-то группы пользователей эксперимент оказал бóльшее влияние"
   ]
  },
  {
   "cell_type": "code",
   "execution_count": 1,
   "metadata": {},
   "outputs": [],
   "source": [
    "# Необходимые библиотеки для исследования \n",
    "\n",
    "import pandas as pd\n",
    "import seaborn as sns\n",
    "import matplotlib.pyplot as plt\n",
    "import numpy as np\n",
    "from scipy import stats as st"
   ]
  },
  {
   "cell_type": "code",
   "execution_count": 3,
   "metadata": {},
   "outputs": [],
   "source": [
    "sns.set(\n",
    "    font_scale=2,\n",
    "    style=\"whitegrid\",\n",
    "    rc={'figure.figsize':(16,6)}\n",
    "        )"
   ]
  },
  {
   "cell_type": "code",
   "execution_count": 4,
   "metadata": {
    "scrolled": false
   },
   "outputs": [
    {
     "data": {
      "text/html": [
       "<div>\n",
       "<style scoped>\n",
       "    .dataframe tbody tr th:only-of-type {\n",
       "        vertical-align: middle;\n",
       "    }\n",
       "\n",
       "    .dataframe tbody tr th {\n",
       "        vertical-align: top;\n",
       "    }\n",
       "\n",
       "    .dataframe thead th {\n",
       "        text-align: right;\n",
       "    }\n",
       "</style>\n",
       "<table border=\"1\" class=\"dataframe\">\n",
       "  <thead>\n",
       "    <tr style=\"text-align: right;\">\n",
       "      <th></th>\n",
       "      <th>tag</th>\n",
       "      <th>ts</th>\n",
       "      <th>user_uid</th>\n",
       "      <th>registration_time</th>\n",
       "      <th>conv_ts</th>\n",
       "    </tr>\n",
       "  </thead>\n",
       "  <tbody>\n",
       "    <tr>\n",
       "      <th>0</th>\n",
       "      <td>test4</td>\n",
       "      <td>30152.843868</td>\n",
       "      <td>001885550d78efd82c0f5cc02ad3369a</td>\n",
       "      <td>27410.154590</td>\n",
       "      <td>29485.529691</td>\n",
       "    </tr>\n",
       "    <tr>\n",
       "      <th>1</th>\n",
       "      <td>control</td>\n",
       "      <td>30133.146255</td>\n",
       "      <td>deb7d0e9bf9813d4f21b579d3703c6e1</td>\n",
       "      <td>27410.171795</td>\n",
       "      <td>27632.424734</td>\n",
       "    </tr>\n",
       "    <tr>\n",
       "      <th>2</th>\n",
       "      <td>test1</td>\n",
       "      <td>30140.447675</td>\n",
       "      <td>32095e22f853e595a0f407ad081e7da8</td>\n",
       "      <td>27410.217536</td>\n",
       "      <td>27414.028899</td>\n",
       "    </tr>\n",
       "    <tr>\n",
       "      <th>3</th>\n",
       "      <td>control</td>\n",
       "      <td>30136.790772</td>\n",
       "      <td>9932d33f40ad07d7f3ddb7c6aee1bc60</td>\n",
       "      <td>27410.227367</td>\n",
       "      <td>27573.751226</td>\n",
       "    </tr>\n",
       "    <tr>\n",
       "      <th>4</th>\n",
       "      <td>test2</td>\n",
       "      <td>30150.339264</td>\n",
       "      <td>4a122db1ad0214e969df154d2dbb4622</td>\n",
       "      <td>27410.230786</td>\n",
       "      <td>29545.833019</td>\n",
       "    </tr>\n",
       "  </tbody>\n",
       "</table>\n",
       "</div>"
      ],
      "text/plain": [
       "       tag            ts                          user_uid  registration_time  \\\n",
       "0    test4  30152.843868  001885550d78efd82c0f5cc02ad3369a       27410.154590   \n",
       "1  control  30133.146255  deb7d0e9bf9813d4f21b579d3703c6e1       27410.171795   \n",
       "2    test1  30140.447675  32095e22f853e595a0f407ad081e7da8       27410.217536   \n",
       "3  control  30136.790772  9932d33f40ad07d7f3ddb7c6aee1bc60       27410.227367   \n",
       "4    test2  30150.339264  4a122db1ad0214e969df154d2dbb4622       27410.230786   \n",
       "\n",
       "        conv_ts  \n",
       "0  29485.529691  \n",
       "1  27632.424734  \n",
       "2  27414.028899  \n",
       "3  27573.751226  \n",
       "4  29545.833019  "
      ]
     },
     "execution_count": 4,
     "metadata": {},
     "output_type": "execute_result"
    }
   ],
   "source": [
    "#информация о том, какой юзер в какой момент времени попал в а/б тест\n",
    "users = pd.read_csv('/Users/gaidovski/Downloads/Архив/users_.csv')\n",
    "users.head()"
   ]
  },
  {
   "cell_type": "code",
   "execution_count": 5,
   "metadata": {},
   "outputs": [
    {
     "data": {
      "text/plain": [
       "tag                    0\n",
       "ts                     0\n",
       "user_uid               0\n",
       "registration_time    497\n",
       "conv_ts              285\n",
       "dtype: int64"
      ]
     },
     "execution_count": 5,
     "metadata": {},
     "output_type": "execute_result"
    }
   ],
   "source": [
    "users.isna().sum()"
   ]
  },
  {
   "cell_type": "code",
   "execution_count": 6,
   "metadata": {},
   "outputs": [
    {
     "data": {
      "text/plain": [
       "tag                   object\n",
       "ts                   float64\n",
       "user_uid              object\n",
       "registration_time    float64\n",
       "conv_ts              float64\n",
       "dtype: object"
      ]
     },
     "execution_count": 6,
     "metadata": {},
     "output_type": "execute_result"
    }
   ],
   "source": [
    "users.dtypes"
   ]
  },
  {
   "cell_type": "code",
   "execution_count": 7,
   "metadata": {},
   "outputs": [
    {
     "name": "stdout",
     "output_type": "stream",
     "text": [
      "696982 количество строк\n"
     ]
    }
   ],
   "source": [
    "users.shape\n",
    "print(f\"{users.shape[0]} количество строк\")"
   ]
  },
  {
   "cell_type": "code",
   "execution_count": 8,
   "metadata": {},
   "outputs": [
    {
     "name": "stdout",
     "output_type": "stream",
     "text": [
      "694819 уникальных пользователей\n"
     ]
    }
   ],
   "source": [
    "print(f\"{users.user_uid.nunique()} уникальных пользователей\")"
   ]
  },
  {
   "cell_type": "markdown",
   "metadata": {},
   "source": [
    "**Комментарий**\n",
    "\n",
    "\n",
    "Заметим, что количество строк в users больше, чем уникальных пользователей.\n",
    "Посмотрим на уникальные id. Не было ли такого, что один пользователь попал в разные группы"
   ]
  },
  {
   "cell_type": "code",
   "execution_count": 9,
   "metadata": {
    "scrolled": true
   },
   "outputs": [
    {
     "data": {
      "text/html": [
       "<div>\n",
       "<style scoped>\n",
       "    .dataframe tbody tr th:only-of-type {\n",
       "        vertical-align: middle;\n",
       "    }\n",
       "\n",
       "    .dataframe tbody tr th {\n",
       "        vertical-align: top;\n",
       "    }\n",
       "\n",
       "    .dataframe thead th {\n",
       "        text-align: right;\n",
       "    }\n",
       "</style>\n",
       "<table border=\"1\" class=\"dataframe\">\n",
       "  <thead>\n",
       "    <tr style=\"text-align: right;\">\n",
       "      <th></th>\n",
       "      <th>user_uid</th>\n",
       "      <th>number_of_tags</th>\n",
       "      <th>more_than_one</th>\n",
       "    </tr>\n",
       "  </thead>\n",
       "  <tbody>\n",
       "    <tr>\n",
       "      <th>293127</th>\n",
       "      <td>6c2289ccfa50dd5b669b159fe12ca4ed</td>\n",
       "      <td>4</td>\n",
       "      <td>True</td>\n",
       "    </tr>\n",
       "    <tr>\n",
       "      <th>496483</th>\n",
       "      <td>b6c9ba2b342248e18633b95d9fc1333d</td>\n",
       "      <td>4</td>\n",
       "      <td>True</td>\n",
       "    </tr>\n",
       "    <tr>\n",
       "      <th>104462</th>\n",
       "      <td>26890a8487248806518c97c316ba1d05</td>\n",
       "      <td>4</td>\n",
       "      <td>True</td>\n",
       "    </tr>\n",
       "    <tr>\n",
       "      <th>135286</th>\n",
       "      <td>31cf96417ebb6203179673d11c225e25</td>\n",
       "      <td>3</td>\n",
       "      <td>True</td>\n",
       "    </tr>\n",
       "    <tr>\n",
       "      <th>345378</th>\n",
       "      <td>7f38b31f238a990d60162f56d5032af3</td>\n",
       "      <td>3</td>\n",
       "      <td>True</td>\n",
       "    </tr>\n",
       "  </tbody>\n",
       "</table>\n",
       "</div>"
      ],
      "text/plain": [
       "                                user_uid  number_of_tags  more_than_one\n",
       "293127  6c2289ccfa50dd5b669b159fe12ca4ed               4           True\n",
       "496483  b6c9ba2b342248e18633b95d9fc1333d               4           True\n",
       "104462  26890a8487248806518c97c316ba1d05               4           True\n",
       "135286  31cf96417ebb6203179673d11c225e25               3           True\n",
       "345378  7f38b31f238a990d60162f56d5032af3               3           True"
      ]
     },
     "execution_count": 9,
     "metadata": {},
     "output_type": "execute_result"
    }
   ],
   "source": [
    "dupl = users.groupby('user_uid', as_index=False).agg({'registration_time':'count'}) \\\n",
    ".sort_values(by='registration_time', ascending=False).rename(columns={\"registration_time\": \"number_of_tags\"})\n",
    "dupl['more_than_one'] = dupl.number_of_tags >= 2\n",
    "dupl.head()"
   ]
  },
  {
   "cell_type": "markdown",
   "metadata": {},
   "source": [
    "**Комментарий**\n",
    "\n",
    "Видим, что некоторым пользователям тэг был присвоен несколько раз.\n",
    "Посмотрим, что именно происходило с первым пользователем по количеству присвоенных тэгов"
   ]
  },
  {
   "cell_type": "code",
   "execution_count": 10,
   "metadata": {
    "scrolled": true
   },
   "outputs": [
    {
     "data": {
      "text/html": [
       "<div>\n",
       "<style scoped>\n",
       "    .dataframe tbody tr th:only-of-type {\n",
       "        vertical-align: middle;\n",
       "    }\n",
       "\n",
       "    .dataframe tbody tr th {\n",
       "        vertical-align: top;\n",
       "    }\n",
       "\n",
       "    .dataframe thead th {\n",
       "        text-align: right;\n",
       "    }\n",
       "</style>\n",
       "<table border=\"1\" class=\"dataframe\">\n",
       "  <thead>\n",
       "    <tr style=\"text-align: right;\">\n",
       "      <th></th>\n",
       "      <th>tag</th>\n",
       "      <th>ts</th>\n",
       "      <th>user_uid</th>\n",
       "      <th>registration_time</th>\n",
       "      <th>conv_ts</th>\n",
       "    </tr>\n",
       "  </thead>\n",
       "  <tbody>\n",
       "    <tr>\n",
       "      <th>97224</th>\n",
       "      <td>test4</td>\n",
       "      <td>30140.554481</td>\n",
       "      <td>6c2289ccfa50dd5b669b159fe12ca4ed</td>\n",
       "      <td>28692.364445</td>\n",
       "      <td>28906.943711</td>\n",
       "    </tr>\n",
       "    <tr>\n",
       "      <th>90820</th>\n",
       "      <td>test3</td>\n",
       "      <td>30136.593332</td>\n",
       "      <td>6c2289ccfa50dd5b669b159fe12ca4ed</td>\n",
       "      <td>28692.364445</td>\n",
       "      <td>28906.943711</td>\n",
       "    </tr>\n",
       "    <tr>\n",
       "      <th>103896</th>\n",
       "      <td>control</td>\n",
       "      <td>30136.492787</td>\n",
       "      <td>6c2289ccfa50dd5b669b159fe12ca4ed</td>\n",
       "      <td>28692.364445</td>\n",
       "      <td>28906.943711</td>\n",
       "    </tr>\n",
       "    <tr>\n",
       "      <th>93037</th>\n",
       "      <td>test3</td>\n",
       "      <td>30133.872325</td>\n",
       "      <td>6c2289ccfa50dd5b669b159fe12ca4ed</td>\n",
       "      <td>28692.364445</td>\n",
       "      <td>28906.943711</td>\n",
       "    </tr>\n",
       "  </tbody>\n",
       "</table>\n",
       "</div>"
      ],
      "text/plain": [
       "            tag            ts                          user_uid  \\\n",
       "97224     test4  30140.554481  6c2289ccfa50dd5b669b159fe12ca4ed   \n",
       "90820     test3  30136.593332  6c2289ccfa50dd5b669b159fe12ca4ed   \n",
       "103896  control  30136.492787  6c2289ccfa50dd5b669b159fe12ca4ed   \n",
       "93037     test3  30133.872325  6c2289ccfa50dd5b669b159fe12ca4ed   \n",
       "\n",
       "        registration_time       conv_ts  \n",
       "97224        28692.364445  28906.943711  \n",
       "90820        28692.364445  28906.943711  \n",
       "103896       28692.364445  28906.943711  \n",
       "93037        28692.364445  28906.943711  "
      ]
     },
     "execution_count": 10,
     "metadata": {},
     "output_type": "execute_result"
    }
   ],
   "source": [
    "users.query(\"user_uid == '6c2289ccfa50dd5b669b159fe12ca4ed'\").sort_values(by='ts', ascending=False)"
   ]
  },
  {
   "cell_type": "code",
   "execution_count": 11,
   "metadata": {},
   "outputs": [
    {
     "name": "stdout",
     "output_type": "stream",
     "text": [
      "2084 пользователям был присвоен тэг больше 1 раза\n"
     ]
    }
   ],
   "source": [
    "print(f\"{dupl.more_than_one.sum()} пользователям был присвоен тэг больше 1 раза\")"
   ]
  },
  {
   "cell_type": "code",
   "execution_count": 12,
   "metadata": {},
   "outputs": [
    {
     "data": {
      "text/plain": [
       "4234"
      ]
     },
     "execution_count": 12,
     "metadata": {},
     "output_type": "execute_result"
    }
   ],
   "source": [
    "dupl.query(\"more_than_one == True\").number_of_tags.sum()"
   ]
  },
  {
   "cell_type": "code",
   "execution_count": 13,
   "metadata": {},
   "outputs": [
    {
     "data": {
      "text/plain": [
       "694832"
      ]
     },
     "execution_count": 13,
     "metadata": {},
     "output_type": "execute_result"
    }
   ],
   "source": [
    "users.shape[0] - dupl.query(\"more_than_one == True\").number_of_tags.sum() + dupl.more_than_one.sum()"
   ]
  },
  {
   "cell_type": "code",
   "execution_count": null,
   "metadata": {},
   "outputs": [],
   "source": []
  },
  {
   "cell_type": "code",
   "execution_count": 14,
   "metadata": {
    "scrolled": false
   },
   "outputs": [
    {
     "data": {
      "image/png": "[encoded data removed]",
      "text/plain": [
       "<Figure size 1152x432 with 1 Axes>"
      ]
     },
     "metadata": {},
     "output_type": "display_data"
    }
   ],
   "source": [
    "users.conv_ts.hist(alpha=0.5, color='green', bins=50, label='Первая покупка')\n",
    "users.registration_time.hist(alpha=0.5, bins=50, label=\"Регистрация\")\n",
    "\n",
    "#plt.xticks(rotation=90) \n",
    "plt.title('Распределение регистраций и первых покупок по времени')\n",
    "plt.xlabel('Время')\n",
    "plt.legend();"
   ]
  },
  {
   "cell_type": "markdown",
   "metadata": {},
   "source": [
    "**Комментарий**\n",
    "\n",
    "Видим, что после условного времени 29000 произошел рост числа регистраций"
   ]
  },
  {
   "cell_type": "code",
   "execution_count": 15,
   "metadata": {},
   "outputs": [
    {
     "data": {
      "text/html": [
       "<div>\n",
       "<style scoped>\n",
       "    .dataframe tbody tr th:only-of-type {\n",
       "        vertical-align: middle;\n",
       "    }\n",
       "\n",
       "    .dataframe tbody tr th {\n",
       "        vertical-align: top;\n",
       "    }\n",
       "\n",
       "    .dataframe thead th {\n",
       "        text-align: right;\n",
       "    }\n",
       "</style>\n",
       "<table border=\"1\" class=\"dataframe\">\n",
       "  <thead>\n",
       "    <tr style=\"text-align: right;\">\n",
       "      <th></th>\n",
       "      <th>user_uid</th>\n",
       "      <th>time</th>\n",
       "      <th>consumption_mode</th>\n",
       "      <th>element_uid</th>\n",
       "      <th>price</th>\n",
       "    </tr>\n",
       "  </thead>\n",
       "  <tbody>\n",
       "    <tr>\n",
       "      <th>0</th>\n",
       "      <td>d60a7038c7b7e99146ffea6f6535862b</td>\n",
       "      <td>30158.645112</td>\n",
       "      <td>dto</td>\n",
       "      <td>2ba66ac9785731da67b2b6155efaca5c</td>\n",
       "      <td>44.5</td>\n",
       "    </tr>\n",
       "    <tr>\n",
       "      <th>1</th>\n",
       "      <td>0906074e1a1a9229b5e749860b646962</td>\n",
       "      <td>30158.645015</td>\n",
       "      <td>dto</td>\n",
       "      <td>e56d422275d90c96762f81db85d80f3d</td>\n",
       "      <td>38.6</td>\n",
       "    </tr>\n",
       "    <tr>\n",
       "      <th>2</th>\n",
       "      <td>efb6eeca3135d573739e5c5d4dbce330</td>\n",
       "      <td>30158.644990</td>\n",
       "      <td>dto</td>\n",
       "      <td>544f7dd31bd61558c9c738adcff6aafa</td>\n",
       "      <td>50.4</td>\n",
       "    </tr>\n",
       "    <tr>\n",
       "      <th>3</th>\n",
       "      <td>ccd658e372645c991ce49b444839712f</td>\n",
       "      <td>30158.644789</td>\n",
       "      <td>dto</td>\n",
       "      <td>8256d0fc7b25382aacfec0066e39cde3</td>\n",
       "      <td>44.5</td>\n",
       "    </tr>\n",
       "    <tr>\n",
       "      <th>4</th>\n",
       "      <td>89ae5e43ff7b89f9d262d507dedc1760</td>\n",
       "      <td>30158.644200</td>\n",
       "      <td>dto</td>\n",
       "      <td>a579f32b5c116624cc661c9d3b96d5e5</td>\n",
       "      <td>44.5</td>\n",
       "    </tr>\n",
       "  </tbody>\n",
       "</table>\n",
       "</div>"
      ],
      "text/plain": [
       "                           user_uid          time consumption_mode  \\\n",
       "0  d60a7038c7b7e99146ffea6f6535862b  30158.645112              dto   \n",
       "1  0906074e1a1a9229b5e749860b646962  30158.645015              dto   \n",
       "2  efb6eeca3135d573739e5c5d4dbce330  30158.644990              dto   \n",
       "3  ccd658e372645c991ce49b444839712f  30158.644789              dto   \n",
       "4  89ae5e43ff7b89f9d262d507dedc1760  30158.644200              dto   \n",
       "\n",
       "                        element_uid  price  \n",
       "0  2ba66ac9785731da67b2b6155efaca5c   44.5  \n",
       "1  e56d422275d90c96762f81db85d80f3d   38.6  \n",
       "2  544f7dd31bd61558c9c738adcff6aafa   50.4  \n",
       "3  8256d0fc7b25382aacfec0066e39cde3   44.5  \n",
       "4  a579f32b5c116624cc661c9d3b96d5e5   44.5  "
      ]
     },
     "execution_count": 15,
     "metadata": {},
     "output_type": "execute_result"
    }
   ],
   "source": [
    "#данные о транзакциях пользователей из таблицы users_ до и во время а/б теста:\n",
    "purchases = pd.read_csv('/Users/gaidovski/Downloads/Архив/purchases_.csv', sep=',')\n",
    "purchases['price'] = purchases.price.round(1)\n",
    "purchases.head()"
   ]
  },
  {
   "cell_type": "code",
   "execution_count": 16,
   "metadata": {},
   "outputs": [
    {
     "data": {
      "text/plain": [
       "(663849, 5)"
      ]
     },
     "execution_count": 16,
     "metadata": {},
     "output_type": "execute_result"
    }
   ],
   "source": [
    "purchases.shape"
   ]
  },
  {
   "cell_type": "code",
   "execution_count": 17,
   "metadata": {},
   "outputs": [
    {
     "data": {
      "text/plain": [
       "user_uid            0\n",
       "time                0\n",
       "consumption_mode    0\n",
       "element_uid         0\n",
       "price               0\n",
       "dtype: int64"
      ]
     },
     "execution_count": 17,
     "metadata": {},
     "output_type": "execute_result"
    }
   ],
   "source": [
    "purchases.isna().sum()"
   ]
  },
  {
   "cell_type": "code",
   "execution_count": 18,
   "metadata": {},
   "outputs": [
    {
     "data": {
      "text/plain": [
       "user_uid             object\n",
       "time                float64\n",
       "consumption_mode     object\n",
       "element_uid          object\n",
       "price               float64\n",
       "dtype: object"
      ]
     },
     "execution_count": 18,
     "metadata": {},
     "output_type": "execute_result"
    }
   ],
   "source": [
    "purchases.dtypes"
   ]
  },
  {
   "cell_type": "code",
   "execution_count": 19,
   "metadata": {},
   "outputs": [
    {
     "name": "stdout",
     "output_type": "stream",
     "text": [
      "295200 уникальных пользователей\n"
     ]
    }
   ],
   "source": [
    "print(f\"{purchases.user_uid.nunique()} уникальных пользователей\")"
   ]
  },
  {
   "cell_type": "code",
   "execution_count": 20,
   "metadata": {},
   "outputs": [
    {
     "data": {
      "text/html": [
       "<div>\n",
       "<style scoped>\n",
       "    .dataframe tbody tr th:only-of-type {\n",
       "        vertical-align: middle;\n",
       "    }\n",
       "\n",
       "    .dataframe tbody tr th {\n",
       "        vertical-align: top;\n",
       "    }\n",
       "\n",
       "    .dataframe thead th {\n",
       "        text-align: right;\n",
       "    }\n",
       "</style>\n",
       "<table border=\"1\" class=\"dataframe\">\n",
       "  <thead>\n",
       "    <tr style=\"text-align: right;\">\n",
       "      <th></th>\n",
       "      <th>number_of_purchases</th>\n",
       "    </tr>\n",
       "  </thead>\n",
       "  <tbody>\n",
       "    <tr>\n",
       "      <th>count</th>\n",
       "      <td>295200.000000</td>\n",
       "    </tr>\n",
       "    <tr>\n",
       "      <th>mean</th>\n",
       "      <td>2.248811</td>\n",
       "    </tr>\n",
       "    <tr>\n",
       "      <th>std</th>\n",
       "      <td>2.181822</td>\n",
       "    </tr>\n",
       "    <tr>\n",
       "      <th>min</th>\n",
       "      <td>1.000000</td>\n",
       "    </tr>\n",
       "    <tr>\n",
       "      <th>25%</th>\n",
       "      <td>1.000000</td>\n",
       "    </tr>\n",
       "    <tr>\n",
       "      <th>50%</th>\n",
       "      <td>1.000000</td>\n",
       "    </tr>\n",
       "    <tr>\n",
       "      <th>75%</th>\n",
       "      <td>3.000000</td>\n",
       "    </tr>\n",
       "    <tr>\n",
       "      <th>max</th>\n",
       "      <td>60.000000</td>\n",
       "    </tr>\n",
       "  </tbody>\n",
       "</table>\n",
       "</div>"
      ],
      "text/plain": [
       "       number_of_purchases\n",
       "count        295200.000000\n",
       "mean              2.248811\n",
       "std               2.181822\n",
       "min               1.000000\n",
       "25%               1.000000\n",
       "50%               1.000000\n",
       "75%               3.000000\n",
       "max              60.000000"
      ]
     },
     "execution_count": 20,
     "metadata": {},
     "output_type": "execute_result"
    }
   ],
   "source": [
    "#зададим отдельную таблицу по количеству транзакций\n",
    "number_of_purchases = purchases.groupby('user_uid',as_index=False).agg({'time':'count'}) \\\n",
    ".rename(columns={\"time\": \"number_of_purchases\"}) \\\n",
    ".sort_values(by='number_of_purchases', ascending=False)\n",
    "#посмотрим на описантельные статистики покупок пользователей\n",
    "number_of_purchases.describe()"
   ]
  },
  {
   "cell_type": "code",
   "execution_count": 21,
   "metadata": {
    "scrolled": false
   },
   "outputs": [
    {
     "data": {
      "image/png": "[encoded data removed]",
      "text/plain": [
       "<Figure size 1152x432 with 1 Axes>"
      ]
     },
     "metadata": {},
     "output_type": "display_data"
    }
   ],
   "source": [
    "#посмотрим на распределение по времени\n",
    "purchases.time.hist(alpha=0.5, color='green', bins=50)\n",
    "\n",
    "plt.title('Распределение транзакций времени')\n",
    "plt.xlabel('Время');"
   ]
  },
  {
   "cell_type": "code",
   "execution_count": 22,
   "metadata": {
    "scrolled": true
   },
   "outputs": [
    {
     "data": {
      "image/png": "[encoded data removed]",
      "text/plain": [
       "<Figure size 1152x432 with 1 Axes>"
      ]
     },
     "metadata": {},
     "output_type": "display_data"
    }
   ],
   "source": [
    "number_of_purchases.number_of_purchases.hist(alpha=0.5, color='blue', bins=100)\n",
    "\n",
    "plt.title('Распределение числа покупок на пользователя')\n",
    "plt.xlabel('Количество покупок на одного пользователя');"
   ]
  },
  {
   "cell_type": "markdown",
   "metadata": {},
   "source": [
    "**Комментарий**\n",
    "\n",
    "- В среднем пользователи совершили 2.2 транзакции за расмотренный условный период \n",
    "- 25% пользователей совершили 3 и более транзакции\n",
    "- Максимальное количество покупок на одного юзера - 60\n",
    "- Большинство пользователей совершили 1 покупку\n",
    "- Распределение покупок по времени имеет явную цикличность (возможно, по дня недели)"
   ]
  },
  {
   "cell_type": "code",
   "execution_count": 23,
   "metadata": {},
   "outputs": [
    {
     "data": {
      "text/html": [
       "<div>\n",
       "<style scoped>\n",
       "    .dataframe tbody tr th:only-of-type {\n",
       "        vertical-align: middle;\n",
       "    }\n",
       "\n",
       "    .dataframe tbody tr th {\n",
       "        vertical-align: top;\n",
       "    }\n",
       "\n",
       "    .dataframe thead th {\n",
       "        text-align: right;\n",
       "    }\n",
       "</style>\n",
       "<table border=\"1\" class=\"dataframe\">\n",
       "  <thead>\n",
       "    <tr style=\"text-align: right;\">\n",
       "      <th></th>\n",
       "      <th>consumption_mode</th>\n",
       "      <th>number_of_transactions</th>\n",
       "    </tr>\n",
       "  </thead>\n",
       "  <tbody>\n",
       "    <tr>\n",
       "      <th>0</th>\n",
       "      <td>dto</td>\n",
       "      <td>245276</td>\n",
       "    </tr>\n",
       "    <tr>\n",
       "      <th>2</th>\n",
       "      <td>subscription</td>\n",
       "      <td>239897</td>\n",
       "    </tr>\n",
       "    <tr>\n",
       "      <th>1</th>\n",
       "      <td>rent</td>\n",
       "      <td>178676</td>\n",
       "    </tr>\n",
       "  </tbody>\n",
       "</table>\n",
       "</div>"
      ],
      "text/plain": [
       "  consumption_mode  number_of_transactions\n",
       "0              dto                  245276\n",
       "2     subscription                  239897\n",
       "1             rent                  178676"
      ]
     },
     "execution_count": 23,
     "metadata": {},
     "output_type": "execute_result"
    }
   ],
   "source": [
    "#количество приобретений контента по виду потребления контента\n",
    "popular_consumption_mode = purchases.pivot_table(index = 'consumption_mode', values = 'user_uid', \n",
    "                        aggfunc = 'count', fill_value=0).reset_index() \\\n",
    ".rename(columns={\"user_uid\": \"number_of_transactions\"}) \\\n",
    ".sort_values(by='number_of_transactions', ascending=False)\n",
    "popular_consumption_mode.head()"
   ]
  },
  {
   "cell_type": "code",
   "execution_count": 24,
   "metadata": {},
   "outputs": [
    {
     "data": {
      "text/html": [
       "<div>\n",
       "<style scoped>\n",
       "    .dataframe tbody tr th:only-of-type {\n",
       "        vertical-align: middle;\n",
       "    }\n",
       "\n",
       "    .dataframe tbody tr th {\n",
       "        vertical-align: top;\n",
       "    }\n",
       "\n",
       "    .dataframe thead th {\n",
       "        text-align: right;\n",
       "    }\n",
       "</style>\n",
       "<table border=\"1\" class=\"dataframe\">\n",
       "  <thead>\n",
       "    <tr style=\"text-align: right;\">\n",
       "      <th></th>\n",
       "      <th>consumption_mode</th>\n",
       "      <th>price</th>\n",
       "    </tr>\n",
       "  </thead>\n",
       "  <tbody>\n",
       "    <tr>\n",
       "      <th>0</th>\n",
       "      <td>dto</td>\n",
       "      <td>34.932015</td>\n",
       "    </tr>\n",
       "    <tr>\n",
       "      <th>1</th>\n",
       "      <td>rent</td>\n",
       "      <td>27.813484</td>\n",
       "    </tr>\n",
       "    <tr>\n",
       "      <th>2</th>\n",
       "      <td>subscription</td>\n",
       "      <td>45.810324</td>\n",
       "    </tr>\n",
       "  </tbody>\n",
       "</table>\n",
       "</div>"
      ],
      "text/plain": [
       "  consumption_mode      price\n",
       "0              dto  34.932015\n",
       "1             rent  27.813484\n",
       "2     subscription  45.810324"
      ]
     },
     "execution_count": 24,
     "metadata": {},
     "output_type": "execute_result"
    }
   ],
   "source": [
    "purchases.pivot_table(index = 'consumption_mode', values = 'price', \n",
    "                        aggfunc = 'mean', fill_value=0).reset_index() \\\n",
    "#.rename(columns={\"user_uid\": \"number_of_transactions\"}) \\\n",
    "#.sort_values(by='number_of_transactions', ascending=False)"
   ]
  },
  {
   "cell_type": "code",
   "execution_count": 25,
   "metadata": {},
   "outputs": [
    {
     "data": {
      "text/html": [
       "<div>\n",
       "<style scoped>\n",
       "    .dataframe tbody tr th:only-of-type {\n",
       "        vertical-align: middle;\n",
       "    }\n",
       "\n",
       "    .dataframe tbody tr th {\n",
       "        vertical-align: top;\n",
       "    }\n",
       "\n",
       "    .dataframe thead th {\n",
       "        text-align: right;\n",
       "    }\n",
       "</style>\n",
       "<table border=\"1\" class=\"dataframe\">\n",
       "  <thead>\n",
       "    <tr style=\"text-align: right;\">\n",
       "      <th></th>\n",
       "      <th>consumption_mode</th>\n",
       "      <th>number_of_transactions</th>\n",
       "      <th>mean_price</th>\n",
       "      <th>revenue</th>\n",
       "      <th>share_of_revenue</th>\n",
       "      <th>share_of_transactions</th>\n",
       "    </tr>\n",
       "  </thead>\n",
       "  <tbody>\n",
       "    <tr>\n",
       "      <th>2</th>\n",
       "      <td>subscription</td>\n",
       "      <td>239897</td>\n",
       "      <td>45.81</td>\n",
       "      <td>10989759.4</td>\n",
       "      <td>0.45</td>\n",
       "      <td>0.36</td>\n",
       "    </tr>\n",
       "    <tr>\n",
       "      <th>0</th>\n",
       "      <td>dto</td>\n",
       "      <td>245276</td>\n",
       "      <td>34.93</td>\n",
       "      <td>8567984.9</td>\n",
       "      <td>0.35</td>\n",
       "      <td>0.37</td>\n",
       "    </tr>\n",
       "    <tr>\n",
       "      <th>1</th>\n",
       "      <td>rent</td>\n",
       "      <td>178676</td>\n",
       "      <td>27.81</td>\n",
       "      <td>4969602.0</td>\n",
       "      <td>0.20</td>\n",
       "      <td>0.27</td>\n",
       "    </tr>\n",
       "  </tbody>\n",
       "</table>\n",
       "</div>"
      ],
      "text/plain": [
       "  consumption_mode  number_of_transactions  mean_price     revenue  \\\n",
       "2     subscription                  239897       45.81  10989759.4   \n",
       "0              dto                  245276       34.93   8567984.9   \n",
       "1             rent                  178676       27.81   4969602.0   \n",
       "\n",
       "   share_of_revenue  share_of_transactions  \n",
       "2              0.45                   0.36  \n",
       "0              0.35                   0.37  \n",
       "1              0.20                   0.27  "
      ]
     },
     "execution_count": 25,
     "metadata": {},
     "output_type": "execute_result"
    }
   ],
   "source": [
    "#количество транзакций, средняя цена и выручка по каждому виду потребления\n",
    "consumption_mode = purchases.groupby('consumption_mode', as_index=False) \\\n",
    ".agg({'time':'count','price':'mean'}) \\\n",
    ".rename(columns={\"time\": \"number_of_transactions\", 'price':'mean_price'})\n",
    "consumption_mode['revenue'] = consumption_mode.number_of_transactions * consumption_mode.mean_price\n",
    "consumption_mode = consumption_mode.sort_values(by='revenue', ascending=False)\n",
    "consumption_mode['share_of_revenue'] = consumption_mode.revenue / consumption_mode.revenue.sum()\n",
    "consumption_mode['share_of_transactions'] = consumption_mode.number_of_transactions / consumption_mode.number_of_transactions.sum()\n",
    "round(consumption_mode,2)"
   ]
  },
  {
   "cell_type": "markdown",
   "metadata": {},
   "source": [
    "- \"Подписка\" принесла 45% выручки за расмотренный период \n",
    "- Так же подписка - самый дорогой вид потребления. Средняя цена - 45.8\n",
    "- Покупка контента и подписка почти одинаково популярны 37% и 36% соответсвенно\n",
    "- Меньше всего клиенты сервиса пользовались \"арендой\". Так же аренда контента внесла наименьший вклад в выручку сервиса 20%\n"
   ]
  },
  {
   "cell_type": "code",
   "execution_count": 26,
   "metadata": {},
   "outputs": [],
   "source": [
    "#общая таблица\n",
    "us_pur = purchases.merge(users, on='user_uid')"
   ]
  },
  {
   "cell_type": "code",
   "execution_count": 27,
   "metadata": {},
   "outputs": [
    {
     "data": {
      "text/html": [
       "<div>\n",
       "<style scoped>\n",
       "    .dataframe tbody tr th:only-of-type {\n",
       "        vertical-align: middle;\n",
       "    }\n",
       "\n",
       "    .dataframe tbody tr th {\n",
       "        vertical-align: top;\n",
       "    }\n",
       "\n",
       "    .dataframe thead th {\n",
       "        text-align: right;\n",
       "    }\n",
       "</style>\n",
       "<table border=\"1\" class=\"dataframe\">\n",
       "  <thead>\n",
       "    <tr style=\"text-align: right;\">\n",
       "      <th></th>\n",
       "      <th>user_uid</th>\n",
       "      <th>time</th>\n",
       "      <th>consumption_mode</th>\n",
       "      <th>element_uid</th>\n",
       "      <th>price</th>\n",
       "      <th>tag</th>\n",
       "      <th>ts</th>\n",
       "      <th>registration_time</th>\n",
       "      <th>conv_ts</th>\n",
       "    </tr>\n",
       "  </thead>\n",
       "  <tbody>\n",
       "    <tr>\n",
       "      <th>0</th>\n",
       "      <td>d60a7038c7b7e99146ffea6f6535862b</td>\n",
       "      <td>30158.645112</td>\n",
       "      <td>dto</td>\n",
       "      <td>2ba66ac9785731da67b2b6155efaca5c</td>\n",
       "      <td>44.5</td>\n",
       "      <td>control</td>\n",
       "      <td>30145.756945</td>\n",
       "      <td>29592.948988</td>\n",
       "      <td>29593.097789</td>\n",
       "    </tr>\n",
       "    <tr>\n",
       "      <th>1</th>\n",
       "      <td>d60a7038c7b7e99146ffea6f6535862b</td>\n",
       "      <td>30157.124337</td>\n",
       "      <td>dto</td>\n",
       "      <td>5aa724c0393087cde3a18c625b310645</td>\n",
       "      <td>44.5</td>\n",
       "      <td>control</td>\n",
       "      <td>30145.756945</td>\n",
       "      <td>29592.948988</td>\n",
       "      <td>29593.097789</td>\n",
       "    </tr>\n",
       "    <tr>\n",
       "      <th>2</th>\n",
       "      <td>d60a7038c7b7e99146ffea6f6535862b</td>\n",
       "      <td>30153.692015</td>\n",
       "      <td>dto</td>\n",
       "      <td>d1ad6ec9f3de6b15e1e2bb109885debe</td>\n",
       "      <td>38.6</td>\n",
       "      <td>control</td>\n",
       "      <td>30145.756945</td>\n",
       "      <td>29592.948988</td>\n",
       "      <td>29593.097789</td>\n",
       "    </tr>\n",
       "    <tr>\n",
       "      <th>3</th>\n",
       "      <td>d60a7038c7b7e99146ffea6f6535862b</td>\n",
       "      <td>30153.584597</td>\n",
       "      <td>dto</td>\n",
       "      <td>6eb3335f238dd96a0eda2608a0a76775</td>\n",
       "      <td>38.6</td>\n",
       "      <td>control</td>\n",
       "      <td>30145.756945</td>\n",
       "      <td>29592.948988</td>\n",
       "      <td>29593.097789</td>\n",
       "    </tr>\n",
       "    <tr>\n",
       "      <th>8</th>\n",
       "      <td>0906074e1a1a9229b5e749860b646962</td>\n",
       "      <td>30158.645015</td>\n",
       "      <td>dto</td>\n",
       "      <td>e56d422275d90c96762f81db85d80f3d</td>\n",
       "      <td>38.6</td>\n",
       "      <td>control</td>\n",
       "      <td>30137.415922</td>\n",
       "      <td>28079.984456</td>\n",
       "      <td>28078.995322</td>\n",
       "    </tr>\n",
       "  </tbody>\n",
       "</table>\n",
       "</div>"
      ],
      "text/plain": [
       "                           user_uid          time consumption_mode  \\\n",
       "0  d60a7038c7b7e99146ffea6f6535862b  30158.645112              dto   \n",
       "1  d60a7038c7b7e99146ffea6f6535862b  30157.124337              dto   \n",
       "2  d60a7038c7b7e99146ffea6f6535862b  30153.692015              dto   \n",
       "3  d60a7038c7b7e99146ffea6f6535862b  30153.584597              dto   \n",
       "8  0906074e1a1a9229b5e749860b646962  30158.645015              dto   \n",
       "\n",
       "                        element_uid  price      tag            ts  \\\n",
       "0  2ba66ac9785731da67b2b6155efaca5c   44.5  control  30145.756945   \n",
       "1  5aa724c0393087cde3a18c625b310645   44.5  control  30145.756945   \n",
       "2  d1ad6ec9f3de6b15e1e2bb109885debe   38.6  control  30145.756945   \n",
       "3  6eb3335f238dd96a0eda2608a0a76775   38.6  control  30145.756945   \n",
       "8  e56d422275d90c96762f81db85d80f3d   38.6  control  30137.415922   \n",
       "\n",
       "   registration_time       conv_ts  \n",
       "0       29592.948988  29593.097789  \n",
       "1       29592.948988  29593.097789  \n",
       "2       29592.948988  29593.097789  \n",
       "3       29592.948988  29593.097789  \n",
       "8       28079.984456  28078.995322  "
      ]
     },
     "execution_count": 27,
     "metadata": {},
     "output_type": "execute_result"
    }
   ],
   "source": [
    "#оставим транзакции, которые были совершены после определения тэга для юзера\n",
    "us_pur_ab = us_pur.query(\"time > ts\")\n",
    "us_pur_ab.head()"
   ]
  },
  {
   "cell_type": "code",
   "execution_count": 28,
   "metadata": {},
   "outputs": [
    {
     "data": {
      "text/plain": [
       "(279550, 9)"
      ]
     },
     "execution_count": 28,
     "metadata": {},
     "output_type": "execute_result"
    }
   ],
   "source": [
    "us_pur_ab.shape"
   ]
  },
  {
   "cell_type": "code",
   "execution_count": null,
   "metadata": {},
   "outputs": [],
   "source": []
  },
  {
   "cell_type": "code",
   "execution_count": null,
   "metadata": {},
   "outputs": [],
   "source": []
  },
  {
   "cell_type": "code",
   "execution_count": 29,
   "metadata": {},
   "outputs": [
    {
     "data": {
      "text/html": [
       "<div>\n",
       "<style scoped>\n",
       "    .dataframe tbody tr th:only-of-type {\n",
       "        vertical-align: middle;\n",
       "    }\n",
       "\n",
       "    .dataframe tbody tr th {\n",
       "        vertical-align: top;\n",
       "    }\n",
       "\n",
       "    .dataframe thead th {\n",
       "        text-align: right;\n",
       "    }\n",
       "</style>\n",
       "<table border=\"1\" class=\"dataframe\">\n",
       "  <thead>\n",
       "    <tr style=\"text-align: right;\">\n",
       "      <th></th>\n",
       "      <th>user_uid</th>\n",
       "      <th>tag</th>\n",
       "      <th>price</th>\n",
       "    </tr>\n",
       "  </thead>\n",
       "  <tbody>\n",
       "    <tr>\n",
       "      <th>51570</th>\n",
       "      <td>54fdabdc4738cd631baf915200249597</td>\n",
       "      <td>control</td>\n",
       "      <td>68.0</td>\n",
       "    </tr>\n",
       "    <tr>\n",
       "      <th>86061</th>\n",
       "      <td>8dd2b1e319c039508fbc20632ac8ef91</td>\n",
       "      <td>control</td>\n",
       "      <td>103.6</td>\n",
       "    </tr>\n",
       "    <tr>\n",
       "      <th>135975</th>\n",
       "      <td>e01c49bbb45c460ef54523ae3834c13e</td>\n",
       "      <td>control</td>\n",
       "      <td>68.0</td>\n",
       "    </tr>\n",
       "    <tr>\n",
       "      <th>38034</th>\n",
       "      <td>3eb1ade8f4d1a0c67939829fc799b5cc</td>\n",
       "      <td>control</td>\n",
       "      <td>38.6</td>\n",
       "    </tr>\n",
       "    <tr>\n",
       "      <th>111687</th>\n",
       "      <td>b7ef1760f48cf477036d3b24ae2b1661</td>\n",
       "      <td>control</td>\n",
       "      <td>68.0</td>\n",
       "    </tr>\n",
       "    <tr>\n",
       "      <th>...</th>\n",
       "      <td>...</td>\n",
       "      <td>...</td>\n",
       "      <td>...</td>\n",
       "    </tr>\n",
       "    <tr>\n",
       "      <th>60164</th>\n",
       "      <td>6323aa0e78d3205ce3f1846dd1ce8ea4</td>\n",
       "      <td>test4</td>\n",
       "      <td>29.8</td>\n",
       "    </tr>\n",
       "    <tr>\n",
       "      <th>60163</th>\n",
       "      <td>63233bd8ef4dc9a95a57837d3c792631</td>\n",
       "      <td>test4</td>\n",
       "      <td>29.8</td>\n",
       "    </tr>\n",
       "    <tr>\n",
       "      <th>60149</th>\n",
       "      <td>631c4b51eed6d60965368486d2e4ee27</td>\n",
       "      <td>test4</td>\n",
       "      <td>38.6</td>\n",
       "    </tr>\n",
       "    <tr>\n",
       "      <th>60177</th>\n",
       "      <td>6328e88330e70cf8b425a159c5f33e01</td>\n",
       "      <td>test4</td>\n",
       "      <td>197.4</td>\n",
       "    </tr>\n",
       "    <tr>\n",
       "      <th>155103</th>\n",
       "      <td>ffffc093e6ad8a606ade54eea7f821b1</td>\n",
       "      <td>test4</td>\n",
       "      <td>68.0</td>\n",
       "    </tr>\n",
       "  </tbody>\n",
       "</table>\n",
       "<p>155104 rows × 3 columns</p>\n",
       "</div>"
      ],
      "text/plain": [
       "                                user_uid      tag  price\n",
       "51570   54fdabdc4738cd631baf915200249597  control   68.0\n",
       "86061   8dd2b1e319c039508fbc20632ac8ef91  control  103.6\n",
       "135975  e01c49bbb45c460ef54523ae3834c13e  control   68.0\n",
       "38034   3eb1ade8f4d1a0c67939829fc799b5cc  control   38.6\n",
       "111687  b7ef1760f48cf477036d3b24ae2b1661  control   68.0\n",
       "...                                  ...      ...    ...\n",
       "60164   6323aa0e78d3205ce3f1846dd1ce8ea4    test4   29.8\n",
       "60163   63233bd8ef4dc9a95a57837d3c792631    test4   29.8\n",
       "60149   631c4b51eed6d60965368486d2e4ee27    test4   38.6\n",
       "60177   6328e88330e70cf8b425a159c5f33e01    test4  197.4\n",
       "155103  ffffc093e6ad8a606ade54eea7f821b1    test4   68.0\n",
       "\n",
       "[155104 rows x 3 columns]"
      ]
     },
     "execution_count": 29,
     "metadata": {},
     "output_type": "execute_result"
    }
   ],
   "source": [
    "sum_per_user = us_pur_ab.groupby(['user_uid', 'tag'], as_index = False) \\\n",
    ".agg({'price': 'sum'}).sort_values(by='tag')\n",
    "sum_per_user"
   ]
  },
  {
   "cell_type": "code",
   "execution_count": 30,
   "metadata": {
    "scrolled": true
   },
   "outputs": [
    {
     "data": {
      "text/html": [
       "<div>\n",
       "<style scoped>\n",
       "    .dataframe tbody tr th:only-of-type {\n",
       "        vertical-align: middle;\n",
       "    }\n",
       "\n",
       "    .dataframe tbody tr th {\n",
       "        vertical-align: top;\n",
       "    }\n",
       "\n",
       "    .dataframe thead th {\n",
       "        text-align: right;\n",
       "    }\n",
       "</style>\n",
       "<table border=\"1\" class=\"dataframe\">\n",
       "  <thead>\n",
       "    <tr style=\"text-align: right;\">\n",
       "      <th></th>\n",
       "      <th>tag</th>\n",
       "      <th>ARPU</th>\n",
       "      <th>number_of_users</th>\n",
       "      <th>test_users_share</th>\n",
       "    </tr>\n",
       "  </thead>\n",
       "  <tbody>\n",
       "    <tr>\n",
       "      <th>0</th>\n",
       "      <td>control</td>\n",
       "      <td>68.34</td>\n",
       "      <td>30117</td>\n",
       "      <td>0.19</td>\n",
       "    </tr>\n",
       "    <tr>\n",
       "      <th>1</th>\n",
       "      <td>test1</td>\n",
       "      <td>69.15</td>\n",
       "      <td>31526</td>\n",
       "      <td>0.20</td>\n",
       "    </tr>\n",
       "    <tr>\n",
       "      <th>2</th>\n",
       "      <td>test2</td>\n",
       "      <td>69.40</td>\n",
       "      <td>31104</td>\n",
       "      <td>0.20</td>\n",
       "    </tr>\n",
       "    <tr>\n",
       "      <th>3</th>\n",
       "      <td>test3</td>\n",
       "      <td>69.60</td>\n",
       "      <td>31162</td>\n",
       "      <td>0.20</td>\n",
       "    </tr>\n",
       "    <tr>\n",
       "      <th>4</th>\n",
       "      <td>test4</td>\n",
       "      <td>69.20</td>\n",
       "      <td>31195</td>\n",
       "      <td>0.20</td>\n",
       "    </tr>\n",
       "  </tbody>\n",
       "</table>\n",
       "</div>"
      ],
      "text/plain": [
       "       tag   ARPU  number_of_users  test_users_share\n",
       "0  control  68.34            30117              0.19\n",
       "1    test1  69.15            31526              0.20\n",
       "2    test2  69.40            31104              0.20\n",
       "3    test3  69.60            31162              0.20\n",
       "4    test4  69.20            31195              0.20"
      ]
     },
     "execution_count": 30,
     "metadata": {},
     "output_type": "execute_result"
    }
   ],
   "source": [
    "#посчитаем ARPU и распределение пользователей по группам\n",
    "groups = sum_per_user.groupby(['tag'], as_index = False).agg({'price':'mean','user_uid':'count'}). \\\n",
    "rename(columns={\"price\": \"ARPU\", \"user_uid\":\"number_of_users\"})\n",
    "groups['test_users_share'] = groups.number_of_users / groups.number_of_users.sum()\n",
    "groups = round(groups, 2)\n",
    "groups.head()"
   ]
  },
  {
   "cell_type": "markdown",
   "metadata": {},
   "source": [
    "**Комментарий**\n",
    "\n",
    "- на первый взгляд пользователи по тестовым группам распределились относительно равномерно, но в контрольной группе значения сильно меньше\n",
    "- проверим равномерность распределения\n",
    "- наибольшее различие по ARPU у контрольной группы с test3\n",
    "- сравним ARPU "
   ]
  },
  {
   "cell_type": "code",
   "execution_count": 31,
   "metadata": {},
   "outputs": [],
   "source": [
    "from scipy.stats import chisquare"
   ]
  },
  {
   "cell_type": "code",
   "execution_count": 32,
   "metadata": {},
   "outputs": [
    {
     "name": "stdout",
     "output_type": "stream",
     "text": [
      "p-value теста:2.3893576849448587e-07\n",
      "Отклоняем H0, пользователи распредены не равномерно по группам\n"
     ]
    }
   ],
   "source": [
    "chi_pvalue = chisquare(groups.number_of_users)[1]\n",
    "print(f\"p-value теста:{chisquare(groups.number_of_users)[1]}\")\n",
    "        \n",
    "      \n",
    "if 0.05 >= chi_pvalue:\n",
    "    print('Отклоняем H0, пользователи распредены не равномерно по группам')\n",
    "else:\n",
    "    print('Не отклоняем H0, пользователи распредены равномерно по группам')"
   ]
  },
  {
   "cell_type": "code",
   "execution_count": 33,
   "metadata": {},
   "outputs": [],
   "source": [
    "#данные по покупкам пользователей в группах\n",
    "test_1 = sum_per_user.query(\"tag == 'test1'\")['price']\n",
    "test_2 = sum_per_user.query(\"tag == 'test2'\")['price']\n",
    "test_3 = sum_per_user.query(\"tag == 'test3'\")['price']\n",
    "test_4 = sum_per_user.query(\"tag == 'test4'\")['price']\n",
    "control = sum_per_user.query(\"tag == 'control'\")['price']"
   ]
  },
  {
   "cell_type": "code",
   "execution_count": 34,
   "metadata": {},
   "outputs": [
    {
     "name": "stdout",
     "output_type": "stream",
     "text": [
      "Original:68.34, Boot: 68.34\n"
     ]
    }
   ],
   "source": [
    "#boot control\n",
    "boot_it = 1000\n",
    "boot_data_c = []\n",
    "boot_conf_level = 0.95\n",
    "\n",
    "for i in range(boot_it):\n",
    "    samples = control.sample(len(control), replace=True)\n",
    "    boot_data_c.append(np.mean(samples))\n",
    "\n",
    "print(f'Original:{round(np.mean(control),2)}, Boot: {round(np.mean(boot_data_c),2)}')"
   ]
  },
  {
   "cell_type": "code",
   "execution_count": 35,
   "metadata": {},
   "outputs": [
    {
     "name": "stdout",
     "output_type": "stream",
     "text": [
      "Original:69.15, Boot: 69.15\n"
     ]
    }
   ],
   "source": [
    "#boot test_1\n",
    "boot_it = 1000\n",
    "boot_data_1 = []\n",
    "boot_conf_level = 0.95\n",
    "\n",
    "for i in range(boot_it):\n",
    "    samples = test_1.sample(len(test_1), replace=True)\n",
    "    boot_data_1.append(np.mean(samples))\n",
    "\n",
    "print(f'Original:{round(np.mean(test_1),2)}, Boot: {round(np.mean(boot_data_1),2)}')"
   ]
  },
  {
   "cell_type": "code",
   "execution_count": 36,
   "metadata": {},
   "outputs": [
    {
     "name": "stdout",
     "output_type": "stream",
     "text": [
      "Original:69.4, Boot: 69.42\n"
     ]
    }
   ],
   "source": [
    "#boot test_2\n",
    "boot_it = 1000\n",
    "boot_data_2 = []\n",
    "boot_conf_level = 0.95\n",
    "\n",
    "for i in range(boot_it):\n",
    "    samples = test_2.sample(len(test_2), replace=True)\n",
    "    boot_data_2.append(np.mean(samples))\n",
    "\n",
    "print(f'Original:{round(np.mean(test_2),2)}, Boot: {round(np.mean(boot_data_2),2)}')"
   ]
  },
  {
   "cell_type": "code",
   "execution_count": 37,
   "metadata": {},
   "outputs": [
    {
     "name": "stdout",
     "output_type": "stream",
     "text": [
      "Original:69.6, Boot: 69.59\n"
     ]
    }
   ],
   "source": [
    "#boot test_3\n",
    "boot_it = 1000\n",
    "boot_data_3 = []\n",
    "boot_conf_level = 0.95\n",
    "\n",
    "for i in range(boot_it):\n",
    "    samples = test_3.sample(len(test_3), replace=True)\n",
    "    boot_data_3.append(np.mean(samples))\n",
    "\n",
    "print(f'Original:{round(np.mean(test_3),2)}, Boot: {round(np.mean(boot_data_3),2)}')"
   ]
  },
  {
   "cell_type": "code",
   "execution_count": 38,
   "metadata": {},
   "outputs": [
    {
     "name": "stdout",
     "output_type": "stream",
     "text": [
      "Original:69.2, Boot: 69.2\n"
     ]
    }
   ],
   "source": [
    "#boot test_4\n",
    "boot_it = 1000\n",
    "boot_data_4 = []\n",
    "boot_conf_level = 0.95\n",
    "\n",
    "for i in range(boot_it):\n",
    "    samples = test_4.sample(len(test_4), replace=True)\n",
    "    boot_data_4.append(np.mean(samples))\n",
    "\n",
    "print(f'Original:{round(np.mean(test_4),2)}, Boot: {round(np.mean(boot_data_4),2)}')"
   ]
  },
  {
   "cell_type": "markdown",
   "metadata": {},
   "source": [
    "**Комментарий** \n",
    "\n",
    "Наибольшее среднее у test_3. Сравним контрольную группу с test_3 в первую очередь"
   ]
  },
  {
   "cell_type": "code",
   "execution_count": 39,
   "metadata": {},
   "outputs": [],
   "source": [
    "left_cl = (1 - boot_conf_level) / 2\n",
    "right_cl = (1 + boot_conf_level) / 2\n",
    "cl_3 = pd.Series(boot_data_3).quantile([left_cl,right_cl])\n",
    "cl_c = pd.Series(boot_data_c).quantile([left_cl,right_cl])"
   ]
  },
  {
   "cell_type": "code",
   "execution_count": 40,
   "metadata": {},
   "outputs": [
    {
     "data": {
      "image/png": "[encoded data removed]",
      "text/plain": [
       "<Figure size 1152x432 with 1 Axes>"
      ]
     },
     "metadata": {},
     "output_type": "display_data"
    }
   ],
   "source": [
    "plt.hist(pd.Series(boot_data_c), bins=50, alpha=0.5, label='control')\n",
    "plt.hist(pd.Series(boot_data_3), bins=50, alpha=0.5, label='test_3')\n",
    "plt.style.use('ggplot')\n",
    "plt.vlines(cl_3,ymin=0,ymax=50,linestyle='--')\n",
    "plt.vlines(cl_c,ymin=0,ymax=50,linestyle='-')\n",
    "plt.title('бутстрап test_3 vs control')\n",
    "plt.legend();"
   ]
  },
  {
   "cell_type": "code",
   "execution_count": 41,
   "metadata": {},
   "outputs": [
    {
     "data": {
      "image/png": "[encoded data removed]",
      "text/plain": [
       "<Figure size 1152x432 with 1 Axes>"
      ]
     },
     "metadata": {},
     "output_type": "display_data"
    }
   ],
   "source": [
    "#разница средних бутстрап распределений test_3\n",
    "cl_pvalue = pd.Series(pd.Series(boot_data_3) - pd.Series(boot_data_c)).quantile([left_cl,right_cl])\n",
    "plt.hist(pd.Series(boot_data_3) - pd.Series(boot_data_c), bins=50, alpha=0.5, color='red')\n",
    "plt.title('разница бутсрап распределений test_3 vs control')\n",
    "plt.vlines(cl_pvalue,ymin=0,ymax=50,linestyle='--');"
   ]
  },
  {
   "cell_type": "markdown",
   "metadata": {},
   "source": [
    "**Комментарий**\n",
    "\n",
    "0 не попадает в доверительный интервал для разницы средних бутстрап распределений. Можем считать, что ARPU группы test_3  статистически значимо больше, чем у контрольной группы"
   ]
  },
  {
   "cell_type": "code",
   "execution_count": 42,
   "metadata": {},
   "outputs": [
    {
     "data": {
      "text/plain": [
       "0.2232293590129228"
      ]
     },
     "execution_count": 42,
     "metadata": {},
     "output_type": "execute_result"
    }
   ],
   "source": [
    "155104 / 694819 "
   ]
  },
  {
   "cell_type": "code",
   "execution_count": 43,
   "metadata": {},
   "outputs": [
    {
     "data": {
      "image/png": "[encoded data removed]",
      "text/plain": [
       "<Figure size 1152x432 with 1 Axes>"
      ]
     },
     "metadata": {},
     "output_type": "display_data"
    }
   ],
   "source": [
    "#разница средних бутстрап распределений test_1\n",
    "cl_pvalue = pd.Series(pd.Series(boot_data_1) - pd.Series(boot_data_c)).quantile([left_cl,right_cl])\n",
    "plt.hist(pd.Series(boot_data_1) - pd.Series(boot_data_c), bins=50, alpha=0.5, color='blue')\n",
    "plt.title('разница бутсрап распределений test_1 vs control')\n",
    "plt.vlines(cl_pvalue,ymin=0,ymax=50,linestyle='--');"
   ]
  },
  {
   "cell_type": "code",
   "execution_count": 44,
   "metadata": {},
   "outputs": [
    {
     "data": {
      "image/png": "[encoded data removed]",
      "text/plain": [
       "<Figure size 1152x432 with 1 Axes>"
      ]
     },
     "metadata": {},
     "output_type": "display_data"
    }
   ],
   "source": [
    "#разница средних бутстрап распределений test_2\n",
    "cl_pvalue = pd.Series(pd.Series(boot_data_2) - pd.Series(boot_data_c)).quantile([left_cl,right_cl])\n",
    "plt.hist(pd.Series(boot_data_2) - pd.Series(boot_data_c), bins=50, alpha=0.5, color='yellow')\n",
    "plt.title('разница бутсрап распределений test_2 vs control')\n",
    "plt.vlines(cl_pvalue,ymin=0,ymax=50,linestyle='--');"
   ]
  },
  {
   "cell_type": "code",
   "execution_count": 45,
   "metadata": {},
   "outputs": [
    {
     "data": {
      "image/png": "[encoded data removed]",
      "text/plain": [
       "<Figure size 1152x432 with 1 Axes>"
      ]
     },
     "metadata": {},
     "output_type": "display_data"
    }
   ],
   "source": [
    "#разница средних бутстрап распределений test_4\n",
    "cl_pvalue = pd.Series(pd.Series(boot_data_4) - pd.Series(boot_data_c)).quantile([left_cl,right_cl])\n",
    "plt.hist(pd.Series(boot_data_4) - pd.Series(boot_data_c), bins=50, alpha=0.5, color='green')\n",
    "plt.title('разница бутсрап распределений test_4 vs control')\n",
    "plt.vlines(cl_pvalue,ymin=0,ymax=50,linestyle='--');"
   ]
  },
  {
   "cell_type": "markdown",
   "metadata": {},
   "source": [
    "**Комментарий**\n",
    "\n",
    "Статистической значимости для test_1 и test_4 в сравнении с контрольной группой не обнаружено\n",
    "\n",
    "Но обнаружилась разница для test_2 \n",
    "\n",
    "Сравним между собой test_2 и test_3"
   ]
  },
  {
   "cell_type": "code",
   "execution_count": 46,
   "metadata": {},
   "outputs": [
    {
     "data": {
      "image/png": "[encoded data removed]",
      "text/plain": [
       "<Figure size 1152x432 with 1 Axes>"
      ]
     },
     "metadata": {},
     "output_type": "display_data"
    }
   ],
   "source": [
    "#разница средних бутстрап распределений test_2 vs test_3 \n",
    "cl_pvalue = pd.Series(pd.Series(boot_data_2) - pd.Series(boot_data_3)).quantile([left_cl,right_cl])\n",
    "plt.hist(pd.Series(boot_data_2) - pd.Series(boot_data_3), bins=50, alpha=0.5, color='purple')\n",
    "plt.title('разница бутсрап распределений test_2 vs test_3')\n",
    "plt.vlines(cl_pvalue,ymin=0,ymax=50,linestyle='--');"
   ]
  },
  {
   "cell_type": "code",
   "execution_count": 47,
   "metadata": {},
   "outputs": [
    {
     "data": {
      "image/png": "[encoded data removed]",
      "text/plain": [
       "<Figure size 1152x432 with 1 Axes>"
      ]
     },
     "metadata": {},
     "output_type": "display_data"
    }
   ],
   "source": [
    "plt.hist(pd.Series(boot_data_2), bins=50, alpha=1, label='test_2', color='green')\n",
    "plt.hist(pd.Series(boot_data_3), bins=50, alpha=1, label='test_3', color='red')\n",
    "plt.style.use('ggplot')\n",
    "plt.vlines(cl_3,ymin=0,ymax=50,linestyle='--')\n",
    "plt.title('бутстрап test_3 vs test_2')\n",
    "plt.legend();"
   ]
  },
  {
   "cell_type": "markdown",
   "metadata": {},
   "source": [
    "**Комментарий**\n",
    "\n",
    "\n",
    "Среднее test_2 незначимо отличается от среднего test_3 "
   ]
  },
  {
   "cell_type": "code",
   "execution_count": null,
   "metadata": {},
   "outputs": [],
   "source": []
  }
 ],
 "metadata": {
  "kernelspec": {
   "display_name": "Python 3",
   "language": "python",
   "name": "python3"
  },
  "language_info": {
   "codemirror_mode": {
    "name": "ipython",
    "version": 3
   },
   "file_extension": ".py",
   "mimetype": "text/x-python",
   "name": "python",
   "nbconvert_exporter": "python",
   "pygments_lexer": "ipython3",
   "version": "3.7.6"
  }
 },
 "nbformat": 4,
 "nbformat_minor": 4
}
